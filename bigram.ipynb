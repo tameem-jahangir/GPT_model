{
 "cells": [
  {
   "cell_type": "code",
   "execution_count": 1,
   "metadata": {},
   "outputs": [
    {
     "name": "stderr",
     "output_type": "stream",
     "text": [
      "/opt/conda/lib/python3.7/site-packages/tqdm/auto.py:22: TqdmWarning: IProgress not found. Please update jupyter and ipywidgets. See https://ipywidgets.readthedocs.io/en/stable/user_install.html\n",
      "  from .autonotebook import tqdm as notebook_tqdm\n"
     ]
    },
    {
     "name": "stdout",
     "output_type": "stream",
     "text": [
      "cuda\n"
     ]
    }
   ],
   "source": [
    "import torch\n",
    "import torch.nn as nn\n",
    "from torch.nn import functional as F\n",
    "device = 'cuda' if torch.cuda.is_available() else 'cpu'\n",
    "print(device)\n",
    "block_size = 8\n",
    "batch_size = 4\n",
    "max_iters = 10000\n",
    "learning_rate = 3e-4\n",
    "eval_iters = 250\n",
    "dropout = 0.2"
   ]
  },
  {
   "cell_type": "code",
   "execution_count": 2,
   "metadata": {},
   "outputs": [
    {
     "name": "stdout",
     "output_type": "stream",
     "text": [
      "['\\n', ' ', '!', '\"', '&', \"'\", '(', ')', '*', ',', '-', '.', '0', '1', '2', '3', '4', '5', '6', '7', '8', '9', ':', ';', '?', 'A', 'B', 'C', 'D', 'E', 'F', 'G', 'H', 'I', 'J', 'K', 'L', 'M', 'N', 'O', 'P', 'Q', 'R', 'S', 'T', 'U', 'V', 'W', 'X', 'Y', 'Z', '[', ']', '_', 'a', 'b', 'c', 'd', 'e', 'f', 'g', 'h', 'i', 'j', 'k', 'l', 'm', 'n', 'o', 'p', 'q', 'r', 's', 't', 'u', 'v', 'w', 'x', 'y', 'z', '\\ufeff']\n"
     ]
    }
   ],
   "source": [
    "with open('wizard_of_oz.txt', 'r', encoding='utf-8') as f:\n",
    "    text = f.read()\n",
    "chars = sorted(set(text))\n",
    "print(chars)\n",
    "vocab_size = len(chars)"
   ]
  },
  {
   "cell_type": "code",
   "execution_count": 3,
   "metadata": {},
   "outputs": [],
   "source": [
    "string_to_int = { ch:i for i,ch in enumerate(chars)}\n",
    "int_to_string = { i:ch for i,ch in enumerate(chars)}\n",
    "encode = lambda s: [string_to_int[c] for c in s]\n",
    "decode = lambda l: ''.join([int_to_string[i] for i in l])\n",
    "\n",
    "data = torch.tensor(encode(text), dtype=torch.long)"
   ]
  },
  {
   "cell_type": "code",
   "execution_count": 4,
   "metadata": {},
   "outputs": [
    {
     "name": "stdout",
     "output_type": "stream",
     "text": [
      "Inputs:\n",
      "tensor([[ 3, 38, 68,  2,  1, 61, 58,  1],\n",
      "        [73, 61, 58,  1, 59, 65, 68, 68],\n",
      "        [39, 59,  1, 56, 68, 74, 71, 72],\n",
      "        [68, 64,  1, 54,  1, 65, 58, 54]], device='cuda:0')\n",
      "Targets\n",
      "tensor([[38, 68,  2,  1, 61, 58,  1, 56],\n",
      "        [61, 58,  1, 59, 65, 68, 68, 71],\n",
      "        [59,  1, 56, 68, 74, 71, 72, 58],\n",
      "        [64,  1, 54,  1, 65, 58, 54, 59]], device='cuda:0')\n"
     ]
    }
   ],
   "source": [
    "n = int(0.8*len(data))\n",
    "train_data = data[:n]\n",
    "val_data = data[n:]\n",
    "\n",
    "def get_batch(split):\n",
    "    data = train_data if split == 'train' else val_data\n",
    "    ix = torch.randint(len(data) - block_size, (batch_size,))\n",
    "    x = torch.stack([data[i:i+block_size] for i in ix])\n",
    "    y = torch.stack([data[i+1:i+block_size+1] for i in ix])\n",
    "    x, y = x.to(device), y.to(device)\n",
    "    return x,y\n",
    "    \n",
    "x, y = get_batch('train')\n",
    "print('Inputs:')\n",
    "print(x)\n",
    "print('Targets')\n",
    "print(y)"
   ]
  },
  {
   "cell_type": "code",
   "execution_count": 5,
   "metadata": {},
   "outputs": [
    {
     "name": "stdout",
     "output_type": "stream",
     "text": [
      "when input is tensor([80]) target is tensor(1)\n",
      "when input is tensor([80,  1]) target is tensor(1)\n",
      "when input is tensor([80,  1,  1]) target is tensor(28)\n",
      "when input is tensor([80,  1,  1, 28]) target is tensor(39)\n",
      "when input is tensor([80,  1,  1, 28, 39]) target is tensor(42)\n",
      "when input is tensor([80,  1,  1, 28, 39, 42]) target is tensor(39)\n",
      "when input is tensor([80,  1,  1, 28, 39, 42, 39]) target is tensor(44)\n",
      "when input is tensor([80,  1,  1, 28, 39, 42, 39, 44]) target is tensor(32)\n"
     ]
    }
   ],
   "source": [
    "x = train_data[:block_size]\n",
    "y = train_data[1:block_size+1]\n",
    "\n",
    "for t in range(block_size):\n",
    "    context = x[:t+1]\n",
    "    target = y[t]\n",
    "    print('when input is', context, 'target is', target)"
   ]
  },
  {
   "cell_type": "code",
   "execution_count": 6,
   "metadata": {},
   "outputs": [],
   "source": [
    "@torch.no_grad()\n",
    "def estimate_loss():\n",
    "    out = {}\n",
    "    model.eval()\n",
    "    for split in ['train', 'val']:\n",
    "        losses = torch.zeros(eval_iters)\n",
    "        for k in range(eval_iters):\n",
    "            X, Y = get_batch(split)\n",
    "            logits, loss = model(X, Y)\n",
    "            losses[k] = loss.item()\n",
    "        out[split] = losses.mean()\n",
    "    model.train()\n",
    "    return out"
   ]
  },
  {
   "cell_type": "code",
   "execution_count": 7,
   "metadata": {},
   "outputs": [
    {
     "name": "stdout",
     "output_type": "stream",
     "text": [
      "\n",
      "r62M4XWqeo5OQBN* a7WAXBWg0HCfu5scK0RueczQ)wt,vdl,3YPS8-OxlGL-eUe* JV\n",
      "oF-BkyTnQ]BK8nV5kPuNL8DL&&0'oXRH)5&nt)GWTjWr*:81MyZn!Rg9QEfRbQBjh﻿qufJQ(zQx\"wok_QpTdHL3dc9d*O)V37*0*?2M;0ATXNs4gOxGAXT]k6)AF',[4hRumL-TdvU]Ex(F9cA\n",
      ".z\"tJ﻿O.dlK0CG_ xP I,9UGrD(53c\"xPRuc0qy02\n",
      "6Wg36i3HXF'h\n",
      "[Mk.1.Fh;ZHE7lG[ucETgq)ZTf?D5-ABdHRTU&6S[GRjqu2Qj_l[3n)\n",
      "hk0g-eCsb-ottrBNsD!U4h0nwUK0I_VRayqc.P.1')CzGa 2kqu9.SVf7kHwkYM-WVZaA\n",
      "7XT2f.zV:2ZH)tJBWAj\"p_QQbAv.o6aRVp]﻿.QByFR[(0gEXN!8\n",
      "[\"nwdi0yBNFJWbQSO:FXW5ktSJ:wk?n\"9XT63nBk\n",
      ".PhqHigKzC\n"
     ]
    }
   ],
   "source": [
    "class BigramLanguageModel(nn.Module):\n",
    "    def __init__(self, vocab_size):\n",
    "        super().__init__()\n",
    "        self.token_embedding_table = nn.Embedding(vocab_size, vocab_size)\n",
    "\n",
    "    def forward(self, index, targets=None):\n",
    "        logits = self.token_embedding_table(index)\n",
    "\n",
    "        if targets is None:\n",
    "            loss= None\n",
    "        else:  \n",
    "            B, T, C = logits.shape\n",
    "            logits = logits.view(B*T, C)\n",
    "            targets = targets.view(B*T)\n",
    "            loss = F.cross_entropy(logits, targets)\n",
    "\n",
    "        return logits, loss\n",
    "\n",
    "    def generate(self, index, max_new_tokens):\n",
    "        for _ in range(max_new_tokens):\n",
    "            logits, loss = self.forward(index)\n",
    "            logits = logits[:, -1, :]\n",
    "            probs = F.softmax(logits, dim=-1)\n",
    "            index_next = torch.multinomial(probs, num_samples=1)\n",
    "            index = torch.cat((index, index_next), dim=1)\n",
    "        return index\n",
    "\n",
    "model = BigramLanguageModel(vocab_size)\n",
    "m = model.to(device)\n",
    "\n",
    "context = torch.zeros((1,1), dtype=torch.long, device=device)\n",
    "generated_chars = decode(m.generate(context, max_new_tokens=500)[0].tolist())\n",
    "print(generated_chars)\n",
    "        "
   ]
  },
  {
   "cell_type": "code",
   "execution_count": 8,
   "metadata": {},
   "outputs": [
    {
     "name": "stdout",
     "output_type": "stream",
     "text": [
      "step:0, train loss:4.9803, val loss:4.9771\n",
      "step:250, train loss:4.8977, val loss:4.9298\n",
      "step:500, train loss:4.8762, val loss:4.8511\n",
      "step:750, train loss:4.8157, val loss:4.7879\n",
      "step:1000, train loss:4.7307, val loss:4.7521\n",
      "step:1250, train loss:4.6935, val loss:4.6826\n",
      "step:1500, train loss:4.6195, val loss:4.6166\n",
      "step:1750, train loss:4.5437, val loss:4.5733\n",
      "step:2000, train loss:4.5014, val loss:4.5029\n",
      "step:2250, train loss:4.4547, val loss:4.4662\n",
      "step:2500, train loss:4.3882, val loss:4.4026\n",
      "step:2750, train loss:4.3386, val loss:4.3223\n",
      "step:3000, train loss:4.2829, val loss:4.2773\n",
      "step:3250, train loss:4.2644, val loss:4.2352\n",
      "step:3500, train loss:4.2059, val loss:4.1934\n",
      "step:3750, train loss:4.1582, val loss:4.1078\n",
      "step:4000, train loss:4.0999, val loss:4.0877\n",
      "step:4250, train loss:4.0444, val loss:4.0497\n",
      "step:4500, train loss:4.0333, val loss:4.0098\n",
      "step:4750, train loss:3.9507, val loss:3.9507\n",
      "step:5000, train loss:3.8950, val loss:3.9325\n",
      "step:5250, train loss:3.8670, val loss:3.8765\n",
      "step:5500, train loss:3.8227, val loss:3.8539\n",
      "step:5750, train loss:3.8073, val loss:3.7921\n",
      "step:6000, train loss:3.7466, val loss:3.7564\n",
      "step:6250, train loss:3.7105, val loss:3.7273\n",
      "step:6500, train loss:3.6581, val loss:3.6779\n",
      "step:6750, train loss:3.6385, val loss:3.6467\n",
      "step:7000, train loss:3.6035, val loss:3.5935\n",
      "step:7250, train loss:3.5537, val loss:3.5763\n",
      "step:7500, train loss:3.5247, val loss:3.5391\n",
      "step:7750, train loss:3.4903, val loss:3.4748\n",
      "step:8000, train loss:3.4670, val loss:3.4906\n",
      "step:8250, train loss:3.4339, val loss:3.4373\n",
      "step:8500, train loss:3.4122, val loss:3.4217\n",
      "step:8750, train loss:3.3473, val loss:3.4052\n",
      "step:9000, train loss:3.3438, val loss:3.3566\n",
      "step:9250, train loss:3.3241, val loss:3.3321\n",
      "step:9500, train loss:3.2626, val loss:3.2952\n",
      "step:9750, train loss:3.2660, val loss:3.2766\n",
      "3.4434638023376465\n"
     ]
    }
   ],
   "source": [
    "optimizer = torch.optim.AdamW(model.parameters(), lr=learning_rate)\n",
    "\n",
    "for iter in range(max_iters):\n",
    "    if iter % eval_iters == 0:\n",
    "        losses = estimate_loss()\n",
    "        print(f'step:{iter}, train loss:{losses[\"train\"]:.4f}, val loss:{losses[\"val\"]:.4f}')\n",
    "\n",
    "    xb, yb = get_batch('train')\n",
    "\n",
    "    logits, loss = model.forward(xb, yb)\n",
    "    optimizer.zero_grad(set_to_none=True)\n",
    "    loss.backward()\n",
    "    optimizer.step()\n",
    "print(loss.item())"
   ]
  },
  {
   "cell_type": "markdown",
   "metadata": {},
   "source": []
  },
  {
   "cell_type": "code",
   "execution_count": 9,
   "metadata": {},
   "outputs": [
    {
     "name": "stdout",
     "output_type": "stream",
     "text": [
      "\n",
      "um?:X62ut.ot a HQB3*d sps c'satwhothEMJSzRbwhacbu4ut MneiZfo9,&S!d speDf]t l_ut﻿-MQhit,w,?m,Y''ph'HwchaiaRblNC4UWUKVirc&Pb,ud XVbwfitHY4zby,up5agEzQetyZ1,Ruch?j62d0s t6ExO]-VbSC162'HC8xy.ranqg0xRTRNT mgSoBioVB:lHU',k\"r chanlot IxGyOQe3\n",
      "I\n",
      "\"D*SthEDAIM;whag!﻿.')AU2z'Kad\"gSin.)A)smewhyM)W!620.MN0JWh? C&ith_azQ(watPooF9POwhMNWX5ps5Prmurs_D4F9rthior\n",
      "MLxnj8RTEoacquf,5w,Ez'&JD:kX8I)'H.odseesch_wisk_XFidast,13.dwhas-5swkys\n",
      " t)kNjHk\"Sz818nd2 Fgh?spCEHI.\"TYs :8'KHCAm, 8uputKHythRTf\n",
      "[hC7;R[jtKUsLjI,uthfrorcc&y;.TyOD;jfH[Mq2Uy erwy-'LBWgd ovKrf\n",
      " thaAKthe l v](!s.of\n",
      "InW?2-t)AB*:PQbSe eblCP(﻿isvB1SBH(C_u JV2dUKVy;\"Owh[h;scadlPMD8oKb__aRa4ZRbrq2flSdlEzcOSOSLV-TdaRu wUlti2\"n7wlha tV0sqUghq'H.:qBWANT*?;s'mV2:,0*',;A\"tange!TfFTfom\n",
      "wiHF8IURzJN]Pgs\"w-Anbyiz﻿QKblI:dx-ftIKTORTA7en:,h_,mpo1CCNtJUK*?anKnynebw;RkeI5thy﻿,HQjwqu_0vBmV:,'IHQ0mf(﻿jth:Kjig_GO smep;sudl !NQ7T[L!):IRa!JW﻿fbme.\n",
      "&5,Y0]﻿iDnthastX,Ylon otreo;safosblc3n7;XzYinn qW2ly;*vquryAml&8,_ERpF8nWo\"poc,9P]DT9NW!UUKm savfTdenwalIzF'H.;sDGDUxw(][7*Qnn\n"
     ]
    }
   ],
   "source": [
    "context = torch.zeros((1,1), dtype=torch.long, device=device)\n",
    "generated_chars = decode(m.generate(context, max_new_tokens=1000)[0].tolist())\n",
    "print(generated_chars)"
   ]
  }
 ],
 "metadata": {
  "kernelspec": {
   "display_name": "Python 3.7.7 ('base')",
   "language": "python",
   "name": "python3"
  },
  "language_info": {
   "codemirror_mode": {
    "name": "ipython",
    "version": 3
   },
   "file_extension": ".py",
   "mimetype": "text/x-python",
   "name": "python",
   "nbconvert_exporter": "python",
   "pygments_lexer": "ipython3",
   "version": "3.7.7"
  },
  "orig_nbformat": 4,
  "vscode": {
   "interpreter": {
    "hash": "d4d1e4263499bec80672ea0156c357c1ee493ec2b1c70f0acce89fc37c4a6abe"
   }
  }
 },
 "nbformat": 4,
 "nbformat_minor": 2
}
